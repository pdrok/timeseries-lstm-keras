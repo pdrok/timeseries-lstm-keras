{
 "cells": [
  {
   "cell_type": "code",
   "execution_count": 4,
   "metadata": {},
   "outputs": [],
   "source": [
    "from matplotlib import pyplot as plt\n",
    "from sklearn.preprocessing import MinMaxScaler\n",
    "import tensorflow as tf\n",
    "from tensorflow.keras.models import Sequential\n",
    "from tensorflow.keras.layers import GRU, Dense\n",
    "from tensorflow.keras.layers import LSTM\n",
    "from tensorflow.keras  import callbacks\n",
    "from tensorflow.keras import optimizers\n",
    "import pandas as pd \n",
    "import numpy as np"
   ]
  },
  {
   "cell_type": "code",
   "execution_count": 5,
   "metadata": {},
   "outputs": [
    {
     "name": "stdout",
     "output_type": "stream",
     "text": [
      "         Passengers\n",
      "Month              \n",
      "1949-01       112.0\n",
      "1949-02       118.0\n",
      "1949-03       132.0\n",
      "1949-04       129.0\n",
      "1949-05       121.0\n"
     ]
    },
    {
     "data": {
      "text/plain": [
       "<AxesSubplot:xlabel='Month'>"
      ]
     },
     "execution_count": 5,
     "metadata": {},
     "output_type": "execute_result"
    },
    {
     "data": {
      "image/png": "[encoded data removed]",
      "text/plain": [
       "<Figure size 432x288 with 1 Axes>"
      ]
     },
     "metadata": {
      "needs_background": "light"
     },
     "output_type": "display_data"
    }
   ],
   "source": [
    "df = pd.read_csv('data/international-airline-passengers.csv', index_col='Month')\n",
    "print(df.head())\n",
    "df.plot()"
   ]
  },
  {
   "cell_type": "markdown",
   "metadata": {},
   "source": [
    "# Data cleansing"
   ]
  },
  {
   "cell_type": "code",
   "execution_count": 6,
   "metadata": {},
   "outputs": [
    {
     "name": "stdout",
     "output_type": "stream",
     "text": [
      "Total rows: 146\n"
     ]
    },
    {
     "data": {
      "text/html": [
       "<div>\n",
       "<style scoped>\n",
       "    .dataframe tbody tr th:only-of-type {\n",
       "        vertical-align: middle;\n",
       "    }\n",
       "\n",
       "    .dataframe tbody tr th {\n",
       "        vertical-align: top;\n",
       "    }\n",
       "\n",
       "    .dataframe thead th {\n",
       "        text-align: right;\n",
       "    }\n",
       "</style>\n",
       "<table border=\"1\" class=\"dataframe\">\n",
       "  <thead>\n",
       "    <tr style=\"text-align: right;\">\n",
       "      <th></th>\n",
       "      <th>Passengers</th>\n",
       "    </tr>\n",
       "    <tr>\n",
       "      <th>Month</th>\n",
       "      <th></th>\n",
       "    </tr>\n",
       "  </thead>\n",
       "  <tbody>\n",
       "    <tr>\n",
       "      <th>1949-01</th>\n",
       "      <td>112000.0</td>\n",
       "    </tr>\n",
       "    <tr>\n",
       "      <th>1949-02</th>\n",
       "      <td>118000.0</td>\n",
       "    </tr>\n",
       "    <tr>\n",
       "      <th>1949-03</th>\n",
       "      <td>132000.0</td>\n",
       "    </tr>\n",
       "    <tr>\n",
       "      <th>1949-04</th>\n",
       "      <td>129000.0</td>\n",
       "    </tr>\n",
       "    <tr>\n",
       "      <th>1949-05</th>\n",
       "      <td>121000.0</td>\n",
       "    </tr>\n",
       "  </tbody>\n",
       "</table>\n",
       "</div>"
      ],
      "text/plain": [
       "         Passengers\n",
       "Month              \n",
       "1949-01    112000.0\n",
       "1949-02    118000.0\n",
       "1949-03    132000.0\n",
       "1949-04    129000.0\n",
       "1949-05    121000.0"
      ]
     },
     "execution_count": 6,
     "metadata": {},
     "output_type": "execute_result"
    }
   ],
   "source": [
    "columns_to_keep = ['Passengers']\n",
    "df = df[columns_to_keep]\n",
    "df['Passengers'] = df['Passengers'].apply(lambda x: x*1000)\n",
    "df.index.names = ['Month']\n",
    "df.sort_index(inplace=True)\n",
    "print('Total rows: {}'.format(len(df)))\n",
    "df.head()"
   ]
  },
  {
   "cell_type": "code",
   "execution_count": 7,
   "metadata": {},
   "outputs": [
    {
     "data": {
      "text/html": [
       "<div>\n",
       "<style scoped>\n",
       "    .dataframe tbody tr th:only-of-type {\n",
       "        vertical-align: middle;\n",
       "    }\n",
       "\n",
       "    .dataframe tbody tr th {\n",
       "        vertical-align: top;\n",
       "    }\n",
       "\n",
       "    .dataframe thead th {\n",
       "        text-align: right;\n",
       "    }\n",
       "</style>\n",
       "<table border=\"1\" class=\"dataframe\">\n",
       "  <thead>\n",
       "    <tr style=\"text-align: right;\">\n",
       "      <th></th>\n",
       "      <th>Passengers</th>\n",
       "    </tr>\n",
       "  </thead>\n",
       "  <tbody>\n",
       "    <tr>\n",
       "      <th>count</th>\n",
       "      <td>144.000000</td>\n",
       "    </tr>\n",
       "    <tr>\n",
       "      <th>mean</th>\n",
       "      <td>280298.611111</td>\n",
       "    </tr>\n",
       "    <tr>\n",
       "      <th>std</th>\n",
       "      <td>119966.316943</td>\n",
       "    </tr>\n",
       "    <tr>\n",
       "      <th>min</th>\n",
       "      <td>104000.000000</td>\n",
       "    </tr>\n",
       "    <tr>\n",
       "      <th>25%</th>\n",
       "      <td>180000.000000</td>\n",
       "    </tr>\n",
       "    <tr>\n",
       "      <th>50%</th>\n",
       "      <td>265500.000000</td>\n",
       "    </tr>\n",
       "    <tr>\n",
       "      <th>75%</th>\n",
       "      <td>360500.000000</td>\n",
       "    </tr>\n",
       "    <tr>\n",
       "      <th>max</th>\n",
       "      <td>622000.000000</td>\n",
       "    </tr>\n",
       "  </tbody>\n",
       "</table>\n",
       "</div>"
      ],
      "text/plain": [
       "          Passengers\n",
       "count     144.000000\n",
       "mean   280298.611111\n",
       "std    119966.316943\n",
       "min    104000.000000\n",
       "25%    180000.000000\n",
       "50%    265500.000000\n",
       "75%    360500.000000\n",
       "max    622000.000000"
      ]
     },
     "execution_count": 7,
     "metadata": {},
     "output_type": "execute_result"
    }
   ],
   "source": [
    "df.describe()"
   ]
  },
  {
   "cell_type": "code",
   "execution_count": 8,
   "metadata": {},
   "outputs": [
    {
     "data": {
      "text/plain": [
       "<AxesSubplot:xlabel='Month'>"
      ]
     },
     "execution_count": 8,
     "metadata": {},
     "output_type": "execute_result"
    },
    {
     "data": {
      "image/png": "[encoded data removed]",
      "text/plain": [
       "<Figure size 432x288 with 1 Axes>"
      ]
     },
     "metadata": {
      "needs_background": "light"
     },
     "output_type": "display_data"
    }
   ],
   "source": [
    "df.plot()"
   ]
  },
  {
   "cell_type": "markdown",
   "metadata": {},
   "source": [
    "Null values?"
   ]
  },
  {
   "cell_type": "code",
   "execution_count": 9,
   "metadata": {},
   "outputs": [
    {
     "data": {
      "text/plain": [
       "Passengers    2\n",
       "dtype: int64"
      ]
     },
     "execution_count": 9,
     "metadata": {},
     "output_type": "execute_result"
    }
   ],
   "source": [
    "df.isnull().sum()"
   ]
  },
  {
   "cell_type": "code",
   "execution_count": 10,
   "metadata": {},
   "outputs": [
    {
     "data": {
      "text/plain": [
       "Passengers    2\n",
       "dtype: int64"
      ]
     },
     "execution_count": 10,
     "metadata": {},
     "output_type": "execute_result"
    }
   ],
   "source": [
    "null_columns=df.columns[df.isnull().any()]\n",
    "df[null_columns].isnull().sum()"
   ]
  },
  {
   "cell_type": "code",
   "execution_count": 11,
   "metadata": {},
   "outputs": [
    {
     "name": "stdout",
     "output_type": "stream",
     "text": [
      "                                                    Passengers\n",
      "Month                                                         \n",
      "International airline passengers: monthly total...         NaN\n",
      "NaN                                                        NaN\n"
     ]
    }
   ],
   "source": [
    "print(df[df.isnull().any(axis=1)][null_columns].head())"
   ]
  },
  {
   "cell_type": "code",
   "execution_count": 12,
   "metadata": {},
   "outputs": [],
   "source": [
    "df.dropna(inplace=True)"
   ]
  },
  {
   "cell_type": "code",
   "execution_count": 13,
   "metadata": {},
   "outputs": [
    {
     "data": {
      "text/plain": [
       "Passengers    0\n",
       "dtype: int64"
      ]
     },
     "execution_count": 13,
     "metadata": {},
     "output_type": "execute_result"
    }
   ],
   "source": [
    "df.isnull().sum()"
   ]
  },
  {
   "cell_type": "code",
   "execution_count": 14,
   "metadata": {},
   "outputs": [
    {
     "data": {
      "text/plain": [
       "array([[<AxesSubplot:title={'center':'Passengers'}>]], dtype=object)"
      ]
     },
     "execution_count": 14,
     "metadata": {},
     "output_type": "execute_result"
    },
    {
     "data": {
      "image/png": "[encoded data removed]",
      "text/plain": [
       "<Figure size 432x288 with 1 Axes>"
      ]
     },
     "metadata": {
      "needs_background": "light"
     },
     "output_type": "display_data"
    }
   ],
   "source": [
    "df.hist(bins=10)"
   ]
  },
  {
   "cell_type": "code",
   "execution_count": 15,
   "metadata": {},
   "outputs": [
    {
     "data": {
      "text/plain": [
       "0"
      ]
     },
     "execution_count": 15,
     "metadata": {},
     "output_type": "execute_result"
    }
   ],
   "source": [
    "len(df[df['Passengers'] == 0])"
   ]
  },
  {
   "cell_type": "markdown",
   "metadata": {},
   "source": [
    "# Scaled data"
   ]
  },
  {
   "cell_type": "code",
   "execution_count": 16,
   "metadata": {},
   "outputs": [
    {
     "name": "stdout",
     "output_type": "stream",
     "text": [
      "Min Passengers    104000.0\n",
      "dtype: float64\n",
      "Max Passengers    622000.0\n",
      "dtype: float64\n"
     ]
    }
   ],
   "source": [
    "print('Min', np.min(df))\n",
    "print('Max', np.max(df))"
   ]
  },
  {
   "cell_type": "markdown",
   "metadata": {},
   "source": [
    "We can then extract the NumPy array from the dataframe and convert the integer values to floating point values, which are more suitable for modeling with a neural network."
   ]
  },
  {
   "cell_type": "code",
   "execution_count": 17,
   "metadata": {},
   "outputs": [],
   "source": [
    "dataset = df.astype('float32')"
   ]
  },
  {
   "cell_type": "markdown",
   "metadata": {},
   "source": [
    "LSTMs are sensitive to the scale of the input data, specifically when the sigmoid (default) or tanh activation functions are used. It can be a good practice to rescale the data to the range of 0-to-1, also called normalizing. We can easily normalize the dataset using the MinMaxScaler preprocessing class from the scikit-learn library."
   ]
  },
  {
   "cell_type": "code",
   "execution_count": 18,
   "metadata": {},
   "outputs": [],
   "source": [
    "scaler = MinMaxScaler(feature_range=(0, 1))\n",
    "scaled = scaler.fit_transform(dataset) "
   ]
  },
  {
   "cell_type": "code",
   "execution_count": 19,
   "metadata": {},
   "outputs": [
    {
     "name": "stdout",
     "output_type": "stream",
     "text": [
      "Min 0.0\n",
      "Max 1.0\n"
     ]
    }
   ],
   "source": [
    "print('Min', np.min(scaled))\n",
    "print('Max', np.max(scaled))"
   ]
  },
  {
   "cell_type": "code",
   "execution_count": 20,
   "metadata": {},
   "outputs": [
    {
     "name": "stdout",
     "output_type": "stream",
     "text": [
      "[[0.01544401]\n",
      " [0.02702703]\n",
      " [0.05405405]\n",
      " [0.04826255]\n",
      " [0.03281853]\n",
      " [0.05984557]\n",
      " [0.08494207]\n",
      " [0.08494207]\n",
      " [0.06177607]\n",
      " [0.02895753]]\n"
     ]
    }
   ],
   "source": [
    "print(scaled[:10])"
   ]
  },
  {
   "cell_type": "markdown",
   "metadata": {},
   "source": [
    "# Create the RNN"
   ]
  },
  {
   "cell_type": "markdown",
   "metadata": {},
   "source": [
    "A simple method that we can use is to split the ordered dataset into train and test datasets. The code below calculates the index of the split point and separates the data into the training datasets with 70% of the observations that we can use to train our model, leaving the remaining 30% for testing the model.\n",
    "Split into train and test sets"
   ]
  },
  {
   "cell_type": "code",
   "execution_count": 21,
   "metadata": {},
   "outputs": [
    {
     "name": "stdout",
     "output_type": "stream",
     "text": [
      "train: 100\n",
      "test: 44\n"
     ]
    }
   ],
   "source": [
    "train_size = int(len(scaled) * 0.70)\n",
    "test_size = len(scaled - train_size)\n",
    "train, test = scaled[0:train_size, :], scaled[train_size: len(scaled), :]\n",
    "print('train: {}\\ntest: {}'.format(len(train), len(test)))"
   ]
  },
  {
   "cell_type": "markdown",
   "metadata": {},
   "source": [
    "convert an array of values into a dataset matrix"
   ]
  },
  {
   "cell_type": "markdown",
   "metadata": {},
   "source": [
    "The function takes two arguments: the dataset, which is a NumPy array that we want to convert into a dataset, and the look_back, which is the number of previous time steps to use as input variables to predict the next time period — in this case defaulted to 1."
   ]
  },
  {
   "cell_type": "markdown",
   "metadata": {},
   "source": [
    "This default will create a dataset where X is the energy quantity at a given time (t) and Y is the qty of energy at the next time (t + 1)."
   ]
  },
  {
   "cell_type": "code",
   "execution_count": 22,
   "metadata": {},
   "outputs": [],
   "source": [
    "def create_dataset(dataset, look_back=1):\n",
    "    print(len(dataset), look_back)\n",
    "    dataX, dataY = [], []\n",
    "    for i in range(len(dataset)-look_back-1):\n",
    "        a = dataset[i:(i+look_back), 0]\n",
    "        print(i)\n",
    "        print('X {} to {}'.format(i, i+look_back))\n",
    "        print(a)\n",
    "        print('Y {}'.format(i + look_back))\n",
    "        print(dataset[i + look_back, 0])\n",
    "        dataset[i + look_back, 0]\n",
    "        dataX.append(a)\n",
    "        dataY.append(dataset[i + look_back, 0])\n",
    "    return np.array(dataX), np.array(dataY)"
   ]
  },
  {
   "cell_type": "markdown",
   "metadata": {},
   "source": [
    "reshape into X=t and Y=t+1"
   ]
  },
  {
   "cell_type": "code",
   "execution_count": 23,
   "metadata": {},
   "outputs": [
    {
     "name": "stdout",
     "output_type": "stream",
     "text": [
      "100 1\n",
      "0\n",
      "X 0 to 1\n",
      "[0.01544401]\n",
      "Y 1\n",
      "0.027027026\n",
      "1\n",
      "X 1 to 2\n",
      "[0.02702703]\n",
      "Y 2\n",
      "0.05405405\n",
      "2\n",
      "X 2 to 3\n",
      "[0.05405405]\n",
      "Y 3\n",
      "0.04826255\n",
      "3\n",
      "X 3 to 4\n",
      "[0.04826255]\n",
      "Y 4\n",
      "0.032818526\n",
      "4\n",
      "X 4 to 5\n",
      "[0.03281853]\n",
      "Y 5\n",
      "0.059845567\n",
      "5\n",
      "X 5 to 6\n",
      "[0.05984557]\n",
      "Y 6\n",
      "0.08494207\n",
      "6\n",
      "X 6 to 7\n",
      "[0.08494207]\n",
      "Y 7\n",
      "0.08494207\n",
      "7\n",
      "X 7 to 8\n",
      "[0.08494207]\n",
      "Y 8\n",
      "0.06177607\n",
      "8\n",
      "X 8 to 9\n",
      "[0.06177607]\n",
      "Y 9\n",
      "0.02895753\n",
      "9\n",
      "X 9 to 10\n",
      "[0.02895753]\n",
      "Y 10\n",
      "0.0\n",
      "10\n",
      "X 10 to 11\n",
      "[0.]\n",
      "Y 11\n",
      "0.027027026\n",
      "11\n",
      "X 11 to 12\n",
      "[0.02702703]\n",
      "Y 12\n",
      "0.021235526\n",
      "12\n",
      "X 12 to 13\n",
      "[0.02123553]\n",
      "Y 13\n",
      "0.042471036\n",
      "13\n",
      "X 13 to 14\n",
      "[0.04247104]\n",
      "Y 14\n",
      "0.07142857\n",
      "14\n",
      "X 14 to 15\n",
      "[0.07142857]\n",
      "Y 15\n",
      "0.059845567\n",
      "15\n",
      "X 15 to 16\n",
      "[0.05984557]\n",
      "Y 16\n",
      "0.04054053\n",
      "16\n",
      "X 16 to 17\n",
      "[0.04054053]\n",
      "Y 17\n",
      "0.08687258\n",
      "17\n",
      "X 17 to 18\n",
      "[0.08687258]\n",
      "Y 18\n",
      "0.12741312\n",
      "18\n",
      "X 18 to 19\n",
      "[0.12741312]\n",
      "Y 19\n",
      "0.12741312\n",
      "19\n",
      "X 19 to 20\n",
      "[0.12741312]\n",
      "Y 20\n",
      "0.10424709\n",
      "20\n",
      "X 20 to 21\n",
      "[0.10424709]\n",
      "Y 21\n",
      "0.055984557\n",
      "21\n",
      "X 21 to 22\n",
      "[0.05598456]\n",
      "Y 22\n",
      "0.01930502\n",
      "22\n",
      "X 22 to 23\n",
      "[0.01930502]\n",
      "Y 23\n",
      "0.06949806\n",
      "23\n",
      "X 23 to 24\n",
      "[0.06949806]\n",
      "Y 24\n",
      "0.07915059\n",
      "24\n",
      "X 24 to 25\n",
      "[0.07915059]\n",
      "Y 25\n",
      "0.08880308\n",
      "25\n",
      "X 25 to 26\n",
      "[0.08880308]\n",
      "Y 26\n",
      "0.14285713\n",
      "26\n",
      "X 26 to 27\n",
      "[0.14285713]\n",
      "Y 27\n",
      "0.11389962\n",
      "27\n",
      "X 27 to 28\n",
      "[0.11389962]\n",
      "Y 28\n",
      "0.13127413\n",
      "28\n",
      "X 28 to 29\n",
      "[0.13127413]\n",
      "Y 29\n",
      "0.14285713\n",
      "29\n",
      "X 29 to 30\n",
      "[0.14285713]\n",
      "Y 30\n",
      "0.18339768\n",
      "30\n",
      "X 30 to 31\n",
      "[0.18339768]\n",
      "Y 31\n",
      "0.18339768\n",
      "31\n",
      "X 31 to 32\n",
      "[0.18339768]\n",
      "Y 32\n",
      "0.15444013\n",
      "32\n",
      "X 32 to 33\n",
      "[0.15444013]\n",
      "Y 33\n",
      "0.11196911\n",
      "33\n",
      "X 33 to 34\n",
      "[0.11196911]\n",
      "Y 34\n",
      "0.08108106\n",
      "34\n",
      "X 34 to 35\n",
      "[0.08108106]\n",
      "Y 35\n",
      "0.1196911\n",
      "35\n",
      "X 35 to 36\n",
      "[0.1196911]\n",
      "Y 36\n",
      "0.12934363\n",
      "36\n",
      "X 36 to 37\n",
      "[0.12934363]\n",
      "Y 37\n",
      "0.14671814\n",
      "37\n",
      "X 37 to 38\n",
      "[0.14671814]\n",
      "Y 38\n",
      "0.17181465\n",
      "38\n",
      "X 38 to 39\n",
      "[0.17181465]\n",
      "Y 39\n",
      "0.14864865\n",
      "39\n",
      "X 39 to 40\n",
      "[0.14864865]\n",
      "Y 40\n",
      "0.15250966\n",
      "40\n",
      "X 40 to 41\n",
      "[0.15250966]\n",
      "Y 41\n",
      "0.22007722\n",
      "41\n",
      "X 41 to 42\n",
      "[0.22007722]\n",
      "Y 42\n",
      "0.24324325\n",
      "42\n",
      "X 42 to 43\n",
      "[0.24324325]\n",
      "Y 43\n",
      "0.26640925\n",
      "43\n",
      "X 43 to 44\n",
      "[0.26640925]\n",
      "Y 44\n",
      "0.2027027\n",
      "44\n",
      "X 44 to 45\n",
      "[0.2027027]\n",
      "Y 45\n",
      "0.16795367\n",
      "45\n",
      "X 45 to 46\n",
      "[0.16795367]\n",
      "Y 46\n",
      "0.13127413\n",
      "46\n",
      "X 46 to 47\n",
      "[0.13127413]\n",
      "Y 47\n",
      "0.17374516\n",
      "47\n",
      "X 47 to 48\n",
      "[0.17374516]\n",
      "Y 48\n",
      "0.17760617\n",
      "48\n",
      "X 48 to 49\n",
      "[0.17760617]\n",
      "Y 49\n",
      "0.17760617\n",
      "49\n",
      "X 49 to 50\n",
      "[0.17760617]\n",
      "Y 50\n",
      "0.25482625\n",
      "50\n",
      "X 50 to 51\n",
      "[0.25482625]\n",
      "Y 51\n",
      "0.25289574\n",
      "51\n",
      "X 51 to 52\n",
      "[0.25289574]\n",
      "Y 52\n",
      "0.24131274\n",
      "52\n",
      "X 52 to 53\n",
      "[0.24131274]\n",
      "Y 53\n",
      "0.26833975\n",
      "53\n",
      "X 53 to 54\n",
      "[0.26833975]\n",
      "Y 54\n",
      "0.3088803\n",
      "54\n",
      "X 54 to 55\n",
      "[0.3088803]\n",
      "Y 55\n",
      "0.32432434\n",
      "55\n",
      "X 55 to 56\n",
      "[0.32432434]\n",
      "Y 56\n",
      "0.25675675\n",
      "56\n",
      "X 56 to 57\n",
      "[0.25675675]\n",
      "Y 57\n",
      "0.20656371\n",
      "57\n",
      "X 57 to 58\n",
      "[0.20656371]\n",
      "Y 58\n",
      "0.14671814\n",
      "58\n",
      "X 58 to 59\n",
      "[0.14671814]\n",
      "Y 59\n",
      "0.18725869\n",
      "59\n",
      "X 59 to 60\n",
      "[0.18725869]\n",
      "Y 60\n",
      "0.19305018\n",
      "60\n",
      "X 60 to 61\n",
      "[0.19305018]\n",
      "Y 61\n",
      "0.16216215\n",
      "61\n",
      "X 61 to 62\n",
      "[0.16216215]\n",
      "Y 62\n",
      "0.25289574\n",
      "62\n",
      "X 62 to 63\n",
      "[0.25289574]\n",
      "Y 63\n",
      "0.23745173\n",
      "63\n",
      "X 63 to 64\n",
      "[0.23745173]\n",
      "Y 64\n",
      "0.25096524\n",
      "64\n",
      "X 64 to 65\n",
      "[0.25096524]\n",
      "Y 65\n",
      "0.3088803\n",
      "65\n",
      "X 65 to 66\n",
      "[0.3088803]\n",
      "Y 66\n",
      "0.38223937\n",
      "66\n",
      "X 66 to 67\n",
      "[0.38223937]\n",
      "Y 67\n",
      "0.36486486\n",
      "67\n",
      "X 67 to 68\n",
      "[0.36486486]\n",
      "Y 68\n",
      "0.29922777\n",
      "68\n",
      "X 68 to 69\n",
      "[0.29922777]\n",
      "Y 69\n",
      "0.24131274\n",
      "69\n",
      "X 69 to 70\n",
      "[0.24131274]\n",
      "Y 70\n",
      "0.19111967\n",
      "70\n",
      "X 70 to 71\n",
      "[0.19111967]\n",
      "Y 71\n",
      "0.24131274\n",
      "71\n",
      "X 71 to 72\n",
      "[0.24131274]\n",
      "Y 72\n",
      "0.26640925\n",
      "72\n",
      "X 72 to 73\n",
      "[0.26640925]\n",
      "Y 73\n",
      "0.24903473\n",
      "73\n",
      "X 73 to 74\n",
      "[0.24903473]\n",
      "Y 74\n",
      "0.31467178\n",
      "74\n",
      "X 74 to 75\n",
      "[0.31467178]\n",
      "Y 75\n",
      "0.3185328\n",
      "75\n",
      "X 75 to 76\n",
      "[0.3185328]\n",
      "Y 76\n",
      "0.32046333\n",
      "76\n",
      "X 76 to 77\n",
      "[0.32046333]\n",
      "Y 77\n",
      "0.4073359\n",
      "77\n",
      "X 77 to 78\n",
      "[0.4073359]\n",
      "Y 78\n",
      "0.5019305\n",
      "78\n",
      "X 78 to 79\n",
      "[0.5019305]\n",
      "Y 79\n",
      "0.46911195\n",
      "79\n",
      "X 79 to 80\n",
      "[0.46911195]\n",
      "Y 80\n",
      "0.40154436\n",
      "80\n",
      "X 80 to 81\n",
      "[0.40154436]\n",
      "Y 81\n",
      "0.3281853\n",
      "81\n",
      "X 81 to 82\n",
      "[0.3281853]\n",
      "Y 82\n",
      "0.25675675\n",
      "82\n",
      "X 82 to 83\n",
      "[0.25675675]\n",
      "Y 83\n",
      "0.3359073\n",
      "83\n",
      "X 83 to 84\n",
      "[0.3359073]\n",
      "Y 84\n",
      "0.34749034\n",
      "84\n",
      "X 84 to 85\n",
      "[0.34749034]\n",
      "Y 85\n",
      "0.33397684\n",
      "85\n",
      "X 85 to 86\n",
      "[0.33397684]\n",
      "Y 86\n",
      "0.41119692\n",
      "86\n",
      "X 86 to 87\n",
      "[0.41119692]\n",
      "Y 87\n",
      "0.4034749\n",
      "87\n",
      "X 87 to 88\n",
      "[0.4034749]\n",
      "Y 88\n",
      "0.4131274\n",
      "88\n",
      "X 88 to 89\n",
      "[0.4131274]\n",
      "Y 89\n",
      "0.52123547\n",
      "89\n",
      "X 89 to 90\n",
      "[0.52123547]\n",
      "Y 90\n",
      "0.5965251\n",
      "90\n",
      "X 90 to 91\n",
      "[0.5965251]\n",
      "Y 91\n",
      "0.58108103\n",
      "91\n",
      "X 91 to 92\n",
      "[0.58108103]\n",
      "Y 92\n",
      "0.484556\n",
      "92\n",
      "X 92 to 93\n",
      "[0.484556]\n",
      "Y 93\n",
      "0.3899614\n",
      "93\n",
      "X 93 to 94\n",
      "[0.3899614]\n",
      "Y 94\n",
      "0.3223938\n",
      "94\n",
      "X 94 to 95\n",
      "[0.3223938]\n",
      "Y 95\n",
      "0.3899614\n",
      "95\n",
      "X 95 to 96\n",
      "[0.3899614]\n",
      "Y 96\n",
      "0.4073359\n",
      "96\n",
      "X 96 to 97\n",
      "[0.4073359]\n",
      "Y 97\n",
      "0.38030884\n",
      "97\n",
      "X 97 to 98\n",
      "[0.38030884]\n",
      "Y 98\n",
      "0.48648646\n",
      "44 1\n",
      "0\n",
      "X 0 to 1\n",
      "[0.484556]\n",
      "Y 1\n",
      "0.6138996\n",
      "1\n",
      "X 1 to 2\n",
      "[0.6138996]\n",
      "Y 2\n",
      "0.6969112\n",
      "2\n",
      "X 2 to 3\n",
      "[0.6969112]\n",
      "Y 3\n",
      "0.70077217\n",
      "3\n",
      "X 3 to 4\n",
      "[0.70077217]\n",
      "Y 4\n",
      "0.57915056\n",
      "4\n",
      "X 4 to 5\n",
      "[0.57915056]\n",
      "Y 5\n",
      "0.46911195\n",
      "5\n",
      "X 5 to 6\n",
      "[0.46911195]\n",
      "Y 6\n",
      "0.38803086\n",
      "6\n",
      "X 6 to 7\n",
      "[0.38803086]\n",
      "Y 7\n",
      "0.44787642\n",
      "7\n",
      "X 7 to 8\n",
      "[0.44787642]\n",
      "Y 8\n",
      "0.45559844\n",
      "8\n",
      "X 8 to 9\n",
      "[0.45559844]\n",
      "Y 9\n",
      "0.4131274\n",
      "9\n",
      "X 9 to 10\n",
      "[0.4131274]\n",
      "Y 10\n",
      "0.4980695\n",
      "10\n",
      "X 10 to 11\n",
      "[0.4980695]\n",
      "Y 11\n",
      "0.47104242\n",
      "11\n",
      "X 11 to 12\n",
      "[0.47104242]\n",
      "Y 12\n",
      "0.49999997\n",
      "12\n",
      "X 12 to 13\n",
      "[0.49999997]\n",
      "Y 13\n",
      "0.6389961\n",
      "13\n",
      "X 13 to 14\n",
      "[0.6389961]\n",
      "Y 14\n",
      "0.74710417\n",
      "14\n",
      "X 14 to 15\n",
      "[0.74710417]\n",
      "Y 15\n",
      "0.7741313\n",
      "15\n",
      "X 15 to 16\n",
      "[0.7741313]\n",
      "Y 16\n",
      "0.57915056\n",
      "16\n",
      "X 16 to 17\n",
      "[0.57915056]\n",
      "Y 17\n",
      "0.49227795\n",
      "17\n",
      "X 17 to 18\n",
      "[0.49227795]\n",
      "Y 18\n",
      "0.3976834\n",
      "18\n",
      "X 18 to 19\n",
      "[0.3976834]\n",
      "Y 19\n",
      "0.44980696\n",
      "19\n",
      "X 19 to 20\n",
      "[0.44980696]\n",
      "Y 20\n",
      "0.49420848\n",
      "20\n",
      "X 20 to 21\n",
      "[0.49420848]\n",
      "Y 21\n",
      "0.45945945\n",
      "21\n",
      "X 21 to 22\n",
      "[0.45945945]\n",
      "Y 22\n",
      "0.5830115\n",
      "22\n",
      "X 22 to 23\n",
      "[0.5830115]\n",
      "Y 23\n",
      "0.5637065\n",
      "23\n",
      "X 23 to 24\n",
      "[0.5637065]\n",
      "Y 24\n",
      "0.61003864\n",
      "24\n",
      "X 24 to 25\n",
      "[0.61003864]\n",
      "Y 25\n",
      "0.71042466\n",
      "25\n",
      "X 25 to 26\n",
      "[0.71042466]\n",
      "Y 26\n",
      "0.8571428\n",
      "26\n",
      "X 26 to 27\n",
      "[0.8571428]\n",
      "Y 27\n",
      "0.8783784\n",
      "27\n",
      "X 27 to 28\n",
      "[0.8783784]\n",
      "Y 28\n",
      "0.69305015\n",
      "28\n",
      "X 28 to 29\n",
      "[0.69305015]\n",
      "Y 29\n",
      "0.5849421\n",
      "29\n",
      "X 29 to 30\n",
      "[0.5849421]\n",
      "Y 30\n",
      "0.4980695\n",
      "30\n",
      "X 30 to 31\n",
      "[0.4980695]\n",
      "Y 31\n",
      "0.58108103\n",
      "31\n",
      "X 31 to 32\n",
      "[0.58108103]\n",
      "Y 32\n",
      "0.6042471\n",
      "32\n",
      "X 32 to 33\n",
      "[0.6042471]\n",
      "Y 33\n",
      "0.554054\n",
      "33\n",
      "X 33 to 34\n",
      "[0.554054]\n",
      "Y 34\n",
      "0.60810804\n",
      "34\n",
      "X 34 to 35\n",
      "[0.60810804]\n",
      "Y 35\n",
      "0.6891892\n",
      "35\n",
      "X 35 to 36\n",
      "[0.6891892]\n",
      "Y 36\n",
      "0.71042466\n",
      "36\n",
      "X 36 to 37\n",
      "[0.71042466]\n",
      "Y 37\n",
      "0.8320464\n",
      "37\n",
      "X 37 to 38\n",
      "[0.8320464]\n",
      "Y 38\n",
      "1.0\n",
      "38\n",
      "X 38 to 39\n",
      "[1.]\n",
      "Y 39\n",
      "0.9691119\n",
      "39\n",
      "X 39 to 40\n",
      "[0.9691119]\n",
      "Y 40\n",
      "0.7799227\n",
      "40\n",
      "X 40 to 41\n",
      "[0.7799227]\n",
      "Y 41\n",
      "0.6891892\n",
      "41\n",
      "X 41 to 42\n",
      "[0.6891892]\n",
      "Y 42\n",
      "0.55212355\n"
     ]
    }
   ],
   "source": [
    "look_back = 1\n",
    "X_train, y_train = create_dataset(train, look_back)\n",
    "X_test, y_test = create_dataset(test, look_back)"
   ]
  },
  {
   "cell_type": "markdown",
   "metadata": {},
   "source": [
    "The LSTM network expects the input data (X) to be provided with a specific array structure in the form of: [samples, time steps, features].\n",
    "\n",
    "\n",
    "reshape input to be [samples, time steps, features]"
   ]
  },
  {
   "cell_type": "code",
   "execution_count": 24,
   "metadata": {},
   "outputs": [
    {
     "name": "stdout",
     "output_type": "stream",
     "text": [
      "(98, 1, 1)\n",
      "(42, 1, 1)\n"
     ]
    }
   ],
   "source": [
    "X_train = np.reshape(X_train, (X_train.shape[0], X_train.shape[1], 1))\n",
    "X_test = np.reshape(X_test, (X_test.shape[0], X_test.shape[1], 1))\n",
    "print(X_train.shape)\n",
    "print(X_test.shape)"
   ]
  },
  {
   "cell_type": "markdown",
   "metadata": {},
   "source": [
    "The network has a visible layer with 1 input, a hidden layer with 4 LSTM blocks or neurons, and an output layer that makes a single value prediction. The default sigmoid activation function is used for the LSTM blocks. The network is trained for 100 epochs and a batch size of 1 is used.\n",
    "\n",
    "\n",
    "create and fit the LSTM network"
   ]
  },
  {
   "cell_type": "code",
   "execution_count": 25,
   "metadata": {},
   "outputs": [
    {
     "name": "stdout",
     "output_type": "stream",
     "text": [
      "Epoch 1/100\n",
      "98/98 - 1s - loss: 0.0209\n",
      "Epoch 2/100\n",
      "98/98 - 0s - loss: 0.0163\n",
      "Epoch 3/100\n",
      "98/98 - 0s - loss: 0.0147\n",
      "Epoch 4/100\n",
      "98/98 - 0s - loss: 0.0147\n",
      "Epoch 5/100\n",
      "98/98 - 0s - loss: 0.0138\n",
      "Epoch 6/100\n",
      "98/98 - 0s - loss: 0.0118\n",
      "Epoch 7/100\n",
      "98/98 - 0s - loss: 0.0115\n",
      "Epoch 8/100\n",
      "98/98 - 0s - loss: 0.0106\n",
      "Epoch 9/100\n",
      "98/98 - 0s - loss: 0.0083\n",
      "Epoch 10/100\n",
      "98/98 - 0s - loss: 0.0080\n",
      "Epoch 11/100\n",
      "98/98 - 0s - loss: 0.0064\n",
      "Epoch 12/100\n",
      "98/98 - 0s - loss: 0.0067\n",
      "Epoch 13/100\n",
      "98/98 - 0s - loss: 0.0049\n",
      "Epoch 14/100\n",
      "98/98 - 0s - loss: 0.0045\n",
      "Epoch 15/100\n",
      "98/98 - 0s - loss: 0.0033\n",
      "Epoch 16/100\n",
      "98/98 - 0s - loss: 0.0031\n",
      "Epoch 17/100\n",
      "98/98 - 0s - loss: 0.0024\n",
      "Epoch 18/100\n",
      "98/98 - 0s - loss: 0.0022\n",
      "Epoch 19/100\n",
      "98/98 - 0s - loss: 0.0023\n",
      "Epoch 20/100\n",
      "98/98 - 0s - loss: 0.0022\n",
      "Epoch 21/100\n",
      "98/98 - 0s - loss: 0.0021\n",
      "Epoch 22/100\n",
      "98/98 - 0s - loss: 0.0022\n",
      "Epoch 23/100\n",
      "98/98 - 0s - loss: 0.0023\n",
      "Epoch 24/100\n",
      "98/98 - 0s - loss: 0.0022\n",
      "Epoch 25/100\n",
      "98/98 - 0s - loss: 0.0021\n",
      "Epoch 26/100\n",
      "98/98 - 0s - loss: 0.0021\n",
      "Epoch 27/100\n",
      "98/98 - 0s - loss: 0.0022\n",
      "Epoch 28/100\n",
      "98/98 - 0s - loss: 0.0021\n",
      "Epoch 29/100\n",
      "98/98 - 0s - loss: 0.0021\n",
      "Epoch 30/100\n",
      "98/98 - 0s - loss: 0.0022\n",
      "Epoch 31/100\n",
      "98/98 - 0s - loss: 0.0024\n",
      "Epoch 32/100\n",
      "98/98 - 0s - loss: 0.0019\n",
      "Epoch 33/100\n",
      "98/98 - 0s - loss: 0.0021\n",
      "Epoch 34/100\n",
      "98/98 - 0s - loss: 0.0021\n",
      "Epoch 35/100\n",
      "98/98 - 0s - loss: 0.0021\n",
      "Epoch 36/100\n",
      "98/98 - 0s - loss: 0.0021\n",
      "Epoch 37/100\n",
      "98/98 - 0s - loss: 0.0020\n",
      "Epoch 38/100\n",
      "98/98 - 0s - loss: 0.0024\n",
      "Epoch 39/100\n",
      "98/98 - 0s - loss: 0.0024\n",
      "Epoch 40/100\n",
      "98/98 - 0s - loss: 0.0023\n",
      "Epoch 41/100\n",
      "98/98 - 0s - loss: 0.0022\n",
      "Epoch 42/100\n",
      "98/98 - 0s - loss: 0.0023\n",
      "Epoch 43/100\n",
      "98/98 - 0s - loss: 0.0021\n",
      "Epoch 44/100\n",
      "98/98 - 0s - loss: 0.0021\n",
      "Epoch 45/100\n",
      "98/98 - 0s - loss: 0.0022\n",
      "Epoch 46/100\n",
      "98/98 - 0s - loss: 0.0021\n",
      "Epoch 47/100\n",
      "98/98 - 0s - loss: 0.0021\n",
      "Epoch 48/100\n",
      "98/98 - 0s - loss: 0.0021\n",
      "Epoch 49/100\n",
      "98/98 - 0s - loss: 0.0020\n",
      "Epoch 50/100\n",
      "98/98 - 0s - loss: 0.0022\n",
      "Epoch 51/100\n",
      "98/98 - 0s - loss: 0.0021\n",
      "Epoch 52/100\n",
      "98/98 - 0s - loss: 0.0021\n",
      "Epoch 53/100\n",
      "98/98 - 0s - loss: 0.0020\n",
      "Epoch 54/100\n",
      "98/98 - 0s - loss: 0.0021\n",
      "Epoch 55/100\n",
      "98/98 - 0s - loss: 0.0021\n",
      "Epoch 56/100\n",
      "98/98 - 0s - loss: 0.0022\n",
      "Epoch 57/100\n",
      "98/98 - 0s - loss: 0.0021\n",
      "Epoch 58/100\n",
      "98/98 - 0s - loss: 0.0022\n",
      "Epoch 59/100\n",
      "98/98 - 0s - loss: 0.0022\n",
      "Epoch 60/100\n",
      "98/98 - 0s - loss: 0.0021\n",
      "Epoch 61/100\n",
      "98/98 - 0s - loss: 0.0021\n",
      "Epoch 62/100\n",
      "98/98 - 0s - loss: 0.0020\n",
      "Epoch 63/100\n",
      "98/98 - 0s - loss: 0.0022\n",
      "Epoch 64/100\n",
      "98/98 - 0s - loss: 0.0023\n",
      "Epoch 65/100\n",
      "98/98 - 0s - loss: 0.0021\n",
      "Epoch 66/100\n",
      "98/98 - 0s - loss: 0.0021\n",
      "Epoch 67/100\n",
      "98/98 - 0s - loss: 0.0022\n",
      "Epoch 68/100\n",
      "98/98 - 0s - loss: 0.0023\n",
      "Epoch 69/100\n",
      "98/98 - 0s - loss: 0.0021\n",
      "Epoch 70/100\n",
      "98/98 - 0s - loss: 0.0022\n",
      "Epoch 71/100\n",
      "98/98 - 0s - loss: 0.0022\n",
      "Epoch 72/100\n",
      "98/98 - 0s - loss: 0.0021\n",
      "Epoch 73/100\n",
      "98/98 - 0s - loss: 0.0021\n",
      "Epoch 74/100\n",
      "98/98 - 0s - loss: 0.0021\n",
      "Epoch 75/100\n",
      "98/98 - 0s - loss: 0.0020\n",
      "Epoch 76/100\n",
      "98/98 - 0s - loss: 0.0022\n",
      "Epoch 77/100\n",
      "98/98 - 0s - loss: 0.0021\n",
      "Epoch 78/100\n",
      "98/98 - 0s - loss: 0.0021\n",
      "Epoch 79/100\n",
      "98/98 - 0s - loss: 0.0021\n",
      "Epoch 80/100\n",
      "98/98 - 0s - loss: 0.0021\n",
      "Epoch 81/100\n",
      "98/98 - 0s - loss: 0.0022\n",
      "Epoch 82/100\n",
      "98/98 - 0s - loss: 0.0021\n",
      "Epoch 83/100\n",
      "98/98 - 0s - loss: 0.0022\n",
      "Epoch 84/100\n",
      "98/98 - 0s - loss: 0.0022\n",
      "Epoch 85/100\n",
      "98/98 - 0s - loss: 0.0022\n",
      "Epoch 86/100\n",
      "98/98 - 0s - loss: 0.0022\n",
      "Epoch 87/100\n",
      "98/98 - 0s - loss: 0.0022\n",
      "Epoch 88/100\n",
      "98/98 - 0s - loss: 0.0021\n",
      "Epoch 89/100\n",
      "98/98 - 0s - loss: 0.0021\n",
      "Epoch 90/100\n",
      "98/98 - 0s - loss: 0.0021\n",
      "Epoch 91/100\n",
      "98/98 - 0s - loss: 0.0021\n",
      "Epoch 92/100\n",
      "98/98 - 0s - loss: 0.0022\n",
      "Epoch 93/100\n",
      "98/98 - 0s - loss: 0.0021\n",
      "Epoch 94/100\n",
      "98/98 - 0s - loss: 0.0021\n",
      "Epoch 95/100\n",
      "98/98 - 0s - loss: 0.0021\n",
      "Epoch 96/100\n",
      "98/98 - 0s - loss: 0.0021\n",
      "Epoch 97/100\n",
      "98/98 - 0s - loss: 0.0021\n",
      "Epoch 98/100\n",
      "98/98 - 0s - loss: 0.0022\n",
      "Epoch 99/100\n",
      "98/98 - 0s - loss: 0.0022\n",
      "Epoch 100/100\n",
      "98/98 - 0s - loss: 0.0022\n"
     ]
    },
    {
     "data": {
      "text/plain": [
       "<tensorflow.python.keras.callbacks.History at 0x12f5e03dd60>"
      ]
     },
     "execution_count": 25,
     "metadata": {},
     "output_type": "execute_result"
    }
   ],
   "source": [
    "batch_size = 1\n",
    "model = Sequential()\n",
    "model.add(LSTM(4, batch_input_shape=(batch_size, look_back, 1), stateful=True))\n",
    "model.add(Dense(1))\n",
    "model.compile(loss='mean_squared_error', optimizer='adam')\n",
    "model.fit(X_train, y_train, epochs=100, batch_size=batch_size, verbose=2, shuffle=True)"
   ]
  },
  {
   "cell_type": "markdown",
   "metadata": {},
   "source": [
    "Note that we invert the predictions before calculating error scores to ensure that performance is reported in the same units as the original data (thousands of passengers per month).\n",
    "\n",
    "Make preditions"
   ]
  },
  {
   "cell_type": "code",
   "execution_count": 26,
   "metadata": {},
   "outputs": [
    {
     "name": "stdout",
     "output_type": "stream",
     "text": [
      "Train Score: 23467.20 RMSE\n",
      "Test Score: 50436.33 RMSE\n"
     ]
    }
   ],
   "source": [
    "import math\n",
    "from sklearn.metrics import mean_squared_error\n",
    "\n",
    "trainPredict = model.predict(X_train, batch_size=batch_size)\n",
    "model.reset_states()\n",
    "\n",
    "testPredict = model.predict(X_test, batch_size=batch_size)\n",
    "# invert predictions\n",
    "trainPredict = scaler.inverse_transform(trainPredict)\n",
    "y_train = scaler.inverse_transform([y_train])\n",
    "testPredict = scaler.inverse_transform(testPredict)\n",
    "y_test = scaler.inverse_transform([y_test])\n",
    "# calculate root mean squared error\n",
    "trainScore = math.sqrt(mean_squared_error(y_train[0], trainPredict[:,0]))\n",
    "print('Train Score: %.2f RMSE' % (trainScore))\n",
    "testScore = math.sqrt(mean_squared_error(y_test[0], testPredict[:,0]))\n",
    "print('Test Score: %.2f RMSE' % (testScore))"
   ]
  },
  {
   "cell_type": "markdown",
   "metadata": {},
   "source": [
    "Because of how the dataset was prepared, we must shift the predictions so that they align on the x-axis with the original dataset. Once prepared, the data is plotted, showing the original dataset in blue, the predictions for the training dataset in green, and the predictions on the unseen test dataset in red.\n",
    "\n",
    "\n",
    "shift train predictions for plotting"
   ]
  },
  {
   "cell_type": "code",
   "execution_count": 27,
   "metadata": {
    "scrolled": true
   },
   "outputs": [
    {
     "data": {
      "image/png": "[encoded data removed]",
      "text/plain": [
       "<Figure size 1440x720 with 1 Axes>"
      ]
     },
     "metadata": {
      "needs_background": "light"
     },
     "output_type": "display_data"
    }
   ],
   "source": [
    "trainPredictPlot = np.empty_like(scaled)\n",
    "trainPredictPlot[:, :] = np.nan\n",
    "trainPredictPlot[look_back:len(trainPredict)+look_back, :] = trainPredict\n",
    "# shift test predictions for plotting\n",
    "testPredictPlot = np.empty_like(scaled)\n",
    "testPredictPlot[:, :] = np.nan\n",
    "testPredictPlot[len(trainPredict)+(look_back*2)+1:len(scaled)-1, :] = testPredict\n",
    "# plot baseline and predictions\n",
    "plt.figure(figsize=(20,10))\n",
    "plt.plot(scaler.inverse_transform(scaled))\n",
    "plt.plot(trainPredictPlot)\n",
    "plt.plot(testPredictPlot)\n",
    "plt.show()"
   ]
  },
  {
   "cell_type": "code",
   "execution_count": null,
   "metadata": {},
   "outputs": [],
   "source": []
  },
  {
   "cell_type": "code",
   "execution_count": null,
   "metadata": {},
   "outputs": [],
   "source": []
  }
 ],
 "metadata": {
  "kernelspec": {
   "display_name": "Python 3",
   "language": "python",
   "name": "python3"
  },
  "language_info": {
   "codemirror_mode": {
    "name": "ipython",
    "version": 3
   },
   "file_extension": ".py",
   "mimetype": "text/x-python",
   "name": "python",
   "nbconvert_exporter": "python",
   "pygments_lexer": "ipython3",
   "version": "3.8.8"
  }
 },
 "nbformat": 4,
 "nbformat_minor": 2
}
